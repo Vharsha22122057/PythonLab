{
 "cells": [
  {
   "cell_type": "code",
   "execution_count": 1,
   "id": "810c6778",
   "metadata": {},
   "outputs": [],
   "source": [
    "### Create a class, Triangle. Its __init__() method should take self, angle1, angle2, and angle3 as arguments. \n",
    "###Make sure to set these appropriately in the body of the __init__()method.\n",
    "###Create a method named check_angles. The sum of a triangle's three angles should return True if the sum of self.angle1,\n",
    "###self.angle2, and self.angle3 is equal 180, and False otherwise.\n",
    "###Create a variable named my_triangle and set it equal to a new instance of your Triangle class. \n",
    "###Pass it three angles that sum to 180 (e.g. 90, 30, 60).\n",
    "###Print out my_triangle.number_of_sides and print out my_triangle.check_angles()."
   ]
  },
  {
   "cell_type": "code",
   "execution_count": 64,
   "id": "81908b33",
   "metadata": {},
   "outputs": [
    {
     "name": "stdout",
     "output_type": "stream",
     "text": [
      "3\n"
     ]
    },
    {
     "data": {
      "text/plain": [
       "True"
      ]
     },
     "execution_count": 64,
     "metadata": {},
     "output_type": "execute_result"
    }
   ],
   "source": [
    "class Triangle:\n",
    "    def __init__(self,a1,a2,a3):\n",
    "        self.a1=(a1)\n",
    "        self.a2=(a2)\n",
    "        self.a3=(a3)\n",
    "        self.check_angles()\n",
    "    number_of_sides=3\n",
    "        \n",
    "    def check_angles(self):\n",
    "        if(self.a1+self.a2+self.a3==180):\n",
    "            return True\n",
    "        else:\n",
    "            return False\n",
    "my_triangle=Triangle(60,30,90)\n",
    "print(my_triangle.number_of_sides)\n",
    "my_triangle.check_angles()"
   ]
  },
  {
   "cell_type": "markdown",
   "id": "c8619a9c",
   "metadata": {},
   "source": [
    "2.Create a class called Employee whose objects are records for an employee.\n",
    "This class will be a derived class of the class Person .\n",
    "An employee record has an employee's name and other details like age,place and mob(inherited from the class Person), an annual salary represented as a single value of type double, a year the employee started work as a single value of type int and a national insurance number, which is a value of type String.\n",
    "Your class should have a reasonable number of constructors and accessor methods, as well as an equals method. \n",
    "Class Employee should have a method that calculates the salary to be debited based on the number of days he/she was present.Assuming 3460 is the pay per day for an employee."
   ]
  },
  {
   "cell_type": "code",
   "execution_count": 66,
   "id": "3c4930cd",
   "metadata": {},
   "outputs": [],
   "source": [
    "class Person:\n",
    "    def __init__(self):\n",
    "        self.name=input('Enter your name')\n",
    "        self.age=input('Enter your age')\n",
    "        self.place=input('PLace you live? ')\n",
    "        self.mobno=input('Enter your mobile number')\n",
    "class Employee(Person):\n",
    "    def __init__(self):\n",
    "        super().__init__()\n",
    "        self.annual_salary=double(input())\n",
    "        self.year=int(input('year you have joined'))\n",
    "        \n",
    "    def salary(self):\n",
    "        self.days_attended=int(input('How many days didu attended'))\n",
    "        self.ms=self.days*30\n",
    "        self.ys=self.ms*12\n",
    "        \n",
    "    def display(self):\n",
    "        print(self.ms)\n",
    "        print(self.ys)\n",
    "        \n",
    "        \n",
    "    "
   ]
  },
  {
   "cell_type": "code",
   "execution_count": null,
   "id": "be7f1920",
   "metadata": {},
   "outputs": [],
   "source": []
  }
 ],
 "metadata": {
  "kernelspec": {
   "display_name": "Python 3 (ipykernel)",
   "language": "python",
   "name": "python3"
  },
  "language_info": {
   "codemirror_mode": {
    "name": "ipython",
    "version": 3
   },
   "file_extension": ".py",
   "mimetype": "text/x-python",
   "name": "python",
   "nbconvert_exporter": "python",
   "pygments_lexer": "ipython3",
   "version": "3.9.13"
  }
 },
 "nbformat": 4,
 "nbformat_minor": 5
}
