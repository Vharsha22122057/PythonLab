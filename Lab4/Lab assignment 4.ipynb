{
 "cells": [
  {
   "cell_type": "markdown",
   "id": "ed7350ce",
   "metadata": {},
   "source": [
    "### 1. Write a Python script to given the following output for the given input.\n",
    "\n",
    "Input Output\n",
    "abc 123\n",
    "123 abc\n",
    "789 hij"
   ]
  },
  {
   "cell_type": "code",
   "execution_count": 2,
   "id": "cca2aced",
   "metadata": {},
   "outputs": [
    {
     "name": "stdout",
     "output_type": "stream",
     "text": [
      "Enter value: abc\n",
      "1 2 3 "
     ]
    }
   ],
   "source": [
    "search=[\"a\",\"b\",\"c\",\"d\",\"e\",\"f\",\"g\",\"h\",\"i\",\"1\",\"2\",\"3\",\"4\",\"5\",\"6\",\"7\",\"8\",\"9\",]\n",
    "a=[]\n",
    "a=input(\"Enter value: \")\n",
    "\n",
    "for i in a:\n",
    "    r = search.index(i)\n",
    "    if(r<=9):\n",
    "        print(search[r+9],end=\" \")\n",
    "    else:\n",
    "        print(search[r-9],end=\" \")"
   ]
  },
  {
   "cell_type": "markdown",
   "id": "f2c748ee",
   "metadata": {},
   "source": [
    "### 2. Write a Python script to find the sum of digits of a number. Also make sure that the number of digits of a number given as input should have atleast 3 digit."
   ]
  },
  {
   "cell_type": "code",
   "execution_count": 2,
   "id": "66cd7500",
   "metadata": {},
   "outputs": [
    {
     "name": "stdout",
     "output_type": "stream",
     "text": [
      "Enter the number:1524\n",
      "The sum of digits of a number is: 12\n"
     ]
    }
   ],
   "source": [
    "n=input('Enter the number:')\n",
    "sum=0\n",
    "if len(n)>=3:\n",
    "    sum=0\n",
    "    for i in n:\n",
    "        sum=sum+int(i)\n",
    "else:\n",
    "    print('Enter the 3 digit number!!!')\n",
    "print('The sum of digits of a number is:',sum)"
   ]
  },
  {
   "cell_type": "markdown",
   "id": "d1a18f66",
   "metadata": {},
   "source": [
    "3.Write a Python script to reverse a number."
   ]
  },
  {
   "cell_type": "code",
   "execution_count": 27,
   "id": "3eaa0c33",
   "metadata": {},
   "outputs": [
    {
     "name": "stdout",
     "output_type": "stream",
     "text": [
      "Enter your number: 99887766778899\n",
      "Reversed Number: 99887766778899\n"
     ]
    }
   ],
   "source": [
    "num = int(input('Enter your number: '))\n",
    "reversed_num = 0\n",
    "\n",
    "while num != 0:\n",
    "    digit = num % 10\n",
    "    reversed_num = reversed_num * 10 + digit\n",
    "    num //= 10\n",
    "\n",
    "print(\"Reversed Number: \" + str(reversed_num))"
   ]
  },
  {
   "cell_type": "code",
   "execution_count": null,
   "id": "bb900753",
   "metadata": {},
   "outputs": [],
   "source": []
  }
 ],
 "metadata": {
  "kernelspec": {
   "display_name": "Python 3 (ipykernel)",
   "language": "python",
   "name": "python3"
  },
  "language_info": {
   "codemirror_mode": {
    "name": "ipython",
    "version": 3
   },
   "file_extension": ".py",
   "mimetype": "text/x-python",
   "name": "python",
   "nbconvert_exporter": "python",
   "pygments_lexer": "ipython3",
   "version": "3.9.13"
  }
 },
 "nbformat": 4,
 "nbformat_minor": 5
}
