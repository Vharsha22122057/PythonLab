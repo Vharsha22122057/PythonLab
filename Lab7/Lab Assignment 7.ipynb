{
 "cells": [
  {
   "cell_type": "markdown",
   "id": "5945fa58",
   "metadata": {},
   "source": [
    "# a. Create two corresponding lists with names as \"Passenger_List\" and \"Passenger_Age\" using the list comprehension technique with minimum 10 entries.            b. Iterate threough the \"Passenger_Age\" categorise the passeners in three categories and append to a new list. [0-18 CHILD  19-40 - Adults 41-65-Old and above 65- Senior Citizens]."
   ]
  },
  {
   "cell_type": "code",
   "execution_count": 21,
   "id": "0d31bf23",
   "metadata": {},
   "outputs": [
    {
     "name": "stdout",
     "output_type": "stream",
     "text": [
      "['child', 'child', 'adult', 'adult', 'adult', 'old', 'old', 'child', 'child']\n",
      "{'kavin': 'child', 'shruthi': 'child', 'vishal': 'adult', 'vharsha': 'adult', 'rishi': 'adult', 'kanchana': 'old', 'saroo': 'old', 'cash': 'child', 'tom': 'child'}\n"
     ]
    }
   ],
   "source": [
    "passenger_list=['kavin','shruthi','vishal','vharsha','rishi','kanchana','saroo','cash','tom']\n",
    "passenger_age=[3,11,19,21,24,46,63,5,2]\n",
    "category=[]\n",
    "dict={}\n",
    "\n",
    "for i in range(len(passenger_list)):\n",
    "    if (passenger_age[i]>=0 and passenger_age[i]<=18):\n",
    "        category.append('child')\n",
    "        dict[passenger_list[i]]='child'\n",
    "    elif passenger_age[i]>=19 and passenger_age[i]<=40:\n",
    "        category.append('adult')\n",
    "        dict[passenger_list[i]]='adult'\n",
    "    elif passenger_age[i]>=41 and passenger_age[i]<=65:\n",
    "        category.append('old')\n",
    "        dict[passenger_list[i]]='old'\n",
    "    else:\n",
    "        category.append('nearing death')\n",
    "        dict[passenger_list[i]]='death '\n",
    "print(category)\n",
    "print(dict)"
   ]
  },
  {
   "cell_type": "markdown",
   "id": "2f87fc6a",
   "metadata": {},
   "source": [
    "a. Create a new integer list taking size and elements of the list from the user and name it as Int_List.\n",
    "b. Create a new list \"Sub_list\" with the odd elements greater than 50 from the Int_List using List Comprehension.\n",
    "c. Create a new list \"Sub_list2\" with the operation (element**2 - 1) if the element is greater than 50 and is even using List Comprehension."
   ]
  },
  {
   "cell_type": "code",
   "execution_count": 14,
   "id": "6b9fe7dc",
   "metadata": {},
   "outputs": [
    {
     "name": "stdout",
     "output_type": "stream",
     "text": [
      "Enter the number of values you need6\n",
      "enter th evalue: 20\n",
      "enter th evalue: 40\n",
      "enter th evalue: 60\n",
      "enter th evalue: 80\n",
      "enter th evalue: 100\n",
      "enter th evalue: 99\n",
      "[20, 40, 60, 80, 100, 99]\n",
      "[99]\n",
      "[3599, 6399, 9999]\n",
      "[20, 40]\n"
     ]
    }
   ],
   "source": [
    "n=int(input('Enter the number of values you need'))\n",
    "int_list=[]\n",
    "sub_list=[]\n",
    "sub_list2=[]\n",
    "sub_list3=[]              #### other elements from the list\n",
    "for i in range(n):\n",
    "    a=int(input('enter th evalue: '))\n",
    "    int_list.append(a)\n",
    "    if int_list[i]%2==1 and int_list[i]>=50:\n",
    "        sub_list.append(a)\n",
    "    elif int_list[i]%2==0 and int_list[i]>=50:\n",
    "        b=(a**2)-1\n",
    "        sub_list2.append(b)\n",
    "    else:\n",
    "        sub_list3.append(a)\n",
    "print(int_list)\n",
    "print(sub_list)\n",
    "print(sub_list2)\n",
    "print(sub_list3)\n",
    "    "
   ]
  },
  {
   "cell_type": "code",
   "execution_count": null,
   "id": "903337c9",
   "metadata": {},
   "outputs": [],
   "source": []
  }
 ],
 "metadata": {
  "kernelspec": {
   "display_name": "Python 3 (ipykernel)",
   "language": "python",
   "name": "python3"
  },
  "language_info": {
   "codemirror_mode": {
    "name": "ipython",
    "version": 3
   },
   "file_extension": ".py",
   "mimetype": "text/x-python",
   "name": "python",
   "nbconvert_exporter": "python",
   "pygments_lexer": "ipython3",
   "version": "3.9.13"
  }
 },
 "nbformat": 4,
 "nbformat_minor": 5
}
