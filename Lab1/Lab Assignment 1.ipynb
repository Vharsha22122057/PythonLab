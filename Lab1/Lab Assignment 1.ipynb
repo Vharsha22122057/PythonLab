{
 "cells": [
  {
   "cell_type": "code",
   "execution_count": 1,
   "id": "61aa2862",
   "metadata": {},
   "outputs": [
    {
     "name": "stdout",
     "output_type": "stream",
     "text": [
      "enter a number5\n",
      "enter the times the number should be repeated5\n",
      "5+55+555+5555+55555+"
     ]
    }
   ],
   "source": [
    "### Lab Assignment\n",
    "n=int(input('enter a number'))\n",
    "x=int(input('enter the times the number should be repeated'))\n",
    "num=0\n",
    "for i in range (x):\n",
    "    num=(num*10)+n\n",
    "    \n",
    "    print(str(num),end=\"+\")\n",
    "    "
   ]
  },
  {
   "cell_type": "markdown",
   "id": "2486bc92",
   "metadata": {},
   "source": [
    "### Factorial"
   ]
  },
  {
   "cell_type": "code",
   "execution_count": 2,
   "id": "38f061ea",
   "metadata": {},
   "outputs": [
    {
     "name": "stdout",
     "output_type": "stream",
     "text": [
      "enter a number5\n",
      "The factorial of the number is 120\n"
     ]
    }
   ],
   "source": [
    "n=int(input('enter a number'))\n",
    "num=1\n",
    "for i in range (1,n+1):\n",
    "    num=num*i\n",
    "print(\"The factorial of the number is\",num)"
   ]
  },
  {
   "cell_type": "markdown",
   "id": "30e28cd2",
   "metadata": {},
   "source": [
    "### User Authentication with three attempts"
   ]
  },
  {
   "cell_type": "code",
   "execution_count": 3,
   "id": "c07a1bfd",
   "metadata": {},
   "outputs": [
    {
     "name": "stdout",
     "output_type": "stream",
     "text": [
      "enter your usernamevharsha\n",
      "enter your password55\n",
      "enter your valid password is\n",
      "enter your usernamevharsha\n",
      "enter your password14\n",
      "enter your valid password is\n",
      "enter your usernamevharsha\n",
      "enter your password10\n",
      "you can login now\n"
     ]
    }
   ],
   "source": [
    "user='vharsha'\n",
    "passw='10'\n",
    "\n",
    "n=3\n",
    "for i in range (n):\n",
    "    username=input('enter your username')\n",
    "    if user==username:\n",
    "        password=input('enter your password')\n",
    "        if passw==password:\n",
    "            print('you can login now')\n",
    "            break\n",
    "        else:\n",
    "            print('enter your valid password is')\n",
    "    else:\n",
    "        attempts=2-i\n",
    "        if attempts==0:\n",
    "            print('sorry,your id is blocked')\n",
    "        else:\n",
    "            print('enter your valid username',attempts,'attempts are remaining')\n",
    "        "
   ]
  },
  {
   "cell_type": "code",
   "execution_count": null,
   "id": "bae3fee7",
   "metadata": {},
   "outputs": [],
   "source": []
  }
 ],
 "metadata": {
  "kernelspec": {
   "display_name": "Python 3 (ipykernel)",
   "language": "python",
   "name": "python3"
  },
  "language_info": {
   "codemirror_mode": {
    "name": "ipython",
    "version": 3
   },
   "file_extension": ".py",
   "mimetype": "text/x-python",
   "name": "python",
   "nbconvert_exporter": "python",
   "pygments_lexer": "ipython3",
   "version": "3.9.13"
  }
 },
 "nbformat": 4,
 "nbformat_minor": 5
}
