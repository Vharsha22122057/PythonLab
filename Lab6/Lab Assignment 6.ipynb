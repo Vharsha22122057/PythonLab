{
 "cells": [
  {
   "cell_type": "markdown",
   "id": "edf4fd2a",
   "metadata": {},
   "source": [
    "### 1. Python code to implement user defined function for returning  multiple result \n",
    "### i . Sum of any 10 integer\n",
    "### ii . AveragE\n",
    "### iii.  Largest value in and array"
   ]
  },
  {
   "cell_type": "code",
   "execution_count": 1,
   "id": "8a7ab582",
   "metadata": {},
   "outputs": [
    {
     "name": "stdout",
     "output_type": "stream",
     "text": [
      "Enter a number: 1\n",
      "Enter a number: 2\n",
      "Enter a number: 3\n",
      "[1, 2, 3]\n",
      "The sum of the list is  6\n",
      "The average value of the list is  1.2592592592592593\n",
      "The maximum value of the list is  3\n"
     ]
    }
   ],
   "source": [
    "l=[]\n",
    "for i in range(3):\n",
    "    a=int(input('Enter a number: '))\n",
    "    l.append(a)\n",
    "print(l)\n",
    "\n",
    "def sum(x):\n",
    "    sum=0\n",
    "    for i in l:\n",
    "        sum=sum+i\n",
    "    return sum\n",
    "\n",
    "def average(x):\n",
    "    avg=0\n",
    "    for i in l:\n",
    "        avg=(avg+i)/3\n",
    "    return avg\n",
    "\n",
    "def max(x):\n",
    "    max=0\n",
    "    i=0\n",
    "    for i in range(3):\n",
    "        if l[i]>max:\n",
    "            max=l[i]\n",
    "    return max\n",
    "        \n",
    "\n",
    "print(\"The sum of the list is \" ,sum(l))\n",
    "print(\"The average value of the list is \", average(l))\n",
    "print(\"The maximum value of the list is \" ,max(l))\n",
    "    \n",
    "        "
   ]
  },
  {
   "cell_type": "code",
   "execution_count": null,
   "id": "2723a36a",
   "metadata": {},
   "outputs": [],
   "source": []
  }
 ],
 "metadata": {
  "kernelspec": {
   "display_name": "Python 3 (ipykernel)",
   "language": "python",
   "name": "python3"
  },
  "language_info": {
   "codemirror_mode": {
    "name": "ipython",
    "version": 3
   },
   "file_extension": ".py",
   "mimetype": "text/x-python",
   "name": "python",
   "nbconvert_exporter": "python",
   "pygments_lexer": "ipython3",
   "version": "3.9.13"
  }
 },
 "nbformat": 4,
 "nbformat_minor": 5
}
