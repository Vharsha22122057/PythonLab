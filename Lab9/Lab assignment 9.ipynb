{
 "cells": [
  {
   "cell_type": "markdown",
   "id": "47b26bc8",
   "metadata": {},
   "source": [
    "###  2. Make a variable named fruits_a that contains a list of only the fruits that contain the letter \"a\" with occurences more than 1.\n",
    "fruits=[]"
   ]
  },
  {
   "cell_type": "code",
   "execution_count": 29,
   "id": "3e35570b",
   "metadata": {},
   "outputs": [
    {
     "name": "stdout",
     "output_type": "stream",
     "text": [
      "how many fruits do u have? 5\n",
      "enter a fruit name: apple\n",
      "enter a fruit name: banana\n",
      "['banana']\n",
      "enter a fruit name: kiwi\n",
      "enter a fruit name: guava\n",
      "['banana', 'guava']\n",
      "enter a fruit name: grape\n",
      "['banana', 'guava', 'grape']\n"
     ]
    }
   ],
   "source": [
    "fruits_a=[]\n",
    "n=int(input('how many fruits do u have? '))\n",
    "count=0\n",
    "for i in range(n):\n",
    "    a=input('enter a fruit name: ')\n",
    "    for x in range(0,len(a)):\n",
    "        if a[x]=='a':\n",
    "            count+=1\n",
    "            if count>1:\n",
    "                fruits_a.append(a)\n",
    "                print(fruits_a)\n",
    "                break\n",
    "            \n",
    "  #  if 'a' and 'a' in a:\n",
    "   #     fruits_a.append(a)\n",
    "    #    print(fruits_a)\n",
    "        \n",
    "    "
   ]
  },
  {
   "cell_type": "code",
   "execution_count": 9,
   "id": "8653cdac",
   "metadata": {},
   "outputs": [
    {
     "name": "stdout",
     "output_type": "stream",
     "text": [
      "['papaya', 'banana', 'guava']\n"
     ]
    }
   ],
   "source": [
    "def fruit_list():\n",
    "    fruits_a =['apple', 'watermelon', 'papaya', 'banana', 'guava']\n",
    "    fruits = []\n",
    "    for a in fruits_a:\n",
    "        if a.count('a') > 1:\n",
    "            fruits.append(a)\n",
    "    print(fruits)\n",
    "fruit_list()"
   ]
  },
  {
   "cell_type": "markdown",
   "id": "71eba4bf",
   "metadata": {},
   "source": [
    "###  1. Make a variable named fruits_a that contains a list of only the fruits that does not contain the letter \"a\".\n",
    "fruits=[]\n",
    "The fruit name has to be taken as an input from the user.If a fruit with letter \"a\", then the user should be asked to re-enter the input, and if user enters two consecutive fruits with letter \"a\", then the list should clear all the elements appended and give an appropriate message.\n",
    "\n",
    "Sort the list in ascending order. Count the number of duplicate fruit names in the list.\n",
    "\n",
    "Create a new list from fruits_a, that has more than 4 letters in their name.\n",
    "\n",
    "Include the concept is user defined function for each operation. "
   ]
  },
  {
   "cell_type": "markdown",
   "id": "f05c07f7",
   "metadata": {},
   "source": [
    "fruits=[]\n",
    "n=int(input('How many fruits do u want in your basket? '))\n",
    "for i in range(n):\n",
    "    a=input(\"Enter the fruit name: \")\n",
    "    fruits.append(a)\n",
    "    for fruit in (fruits):\n",
    "        if 'a'in fruit[i]:\n",
    "            fruits.remove(fruits[i])\n",
    "            new_fruit=input('enter a new fruit name: ')\n",
    "            fruits.insert(i,new_fruit)\n",
    "            print(fruits)"
   ]
  },
  {
   "cell_type": "code",
   "execution_count": 1,
   "id": "0ea2bc4f",
   "metadata": {},
   "outputs": [],
   "source": [
    "def fruit_name():    \n",
    "    fruits_a = []\n",
    "    print(\"Give fruits name without the letter 'a'\")\n",
    "    print(\"press 1 if u want to exit.\")\n",
    "    count = 1\n",
    "    while count >= 0:\n",
    "        fruit = input(\"Enter a fruit name- \").lower()\n",
    "        if 'a' not in fruit and fruit != '1':\n",
    "            fruits_a.append(fruit)\n",
    "        elif 'a' in fruit:\n",
    "            print(\"This does not contain 'a' in it\")\n",
    "            print(f\"You have {count} left\")\n",
    "            count -= 1\n",
    "        if fruit == '1':\n",
    "            print(\"The list of fruits name\")\n",
    "            return fruits_a\n",
    "    else: \n",
    "        print(\"You have lost all your chances\")\n",
    "        print(\"The lis thas been cleared\")\n",
    "        fruits_a.clear()\n",
    "        return fruits_a\n",
    "def fruit_sort(f_list):\n",
    "    return f_list.sort()"
   ]
  },
  {
   "cell_type": "code",
   "execution_count": 2,
   "id": "e3a028c9",
   "metadata": {},
   "outputs": [],
   "source": [
    "def dup_fruit(f_list):\n",
    "    set_f = set(f_list)\n",
    "    for i in set_f:\n",
    "        c = f_list.count(i)\n",
    "        if c > 1:\n",
    "            print(f\"The num of duplicate of {i} is {c}\")\n",
    "def name_4(f_list):\n",
    "    fruit = []\n",
    "    for i in f_list:\n",
    "        if len(i) == 4:\n",
    "            fruit.append(i)\n",
    "    return fruit"
   ]
  },
  {
   "cell_type": "code",
   "execution_count": 3,
   "id": "e7af91f9",
   "metadata": {},
   "outputs": [
    {
     "name": "stdout",
     "output_type": "stream",
     "text": [
      "Give fruits name without the letter 'a'\n",
      "press 1 if u want to exit.\n",
      "Enter a fruits name- kiwi\n",
      "Enter a fruits name- plum\n",
      "Enter a fruits name- berry\n",
      "Enter a fruits name- cherry\n",
      "Enter a fruits name- apple\n",
      "This does not contain 'a' in it\n",
      "You have 1 left\n",
      "Enter a fruits name- melon\n",
      "Enter a fruits name- kiwi\n",
      "Enter a fruits name- berry\n",
      "Enter a fruits name- cherry\n",
      "Enter a fruits name- plum\n",
      "Enter a fruits name- plum\n",
      "Enter a fruits name- melon\n",
      "Enter a fruits name- cherry\n",
      "Enter a fruits name- berry\n",
      "Enter a fruits name- 1\n",
      "Your list of fruits name\n",
      "['kiwi', 'plum', 'berry', 'cherry', 'melon', 'kiwi', 'berry', 'cherry', 'plum', 'plum', 'melon', 'cherry', 'berry']\n",
      "['berry', 'berry', 'berry', 'cherry', 'cherry', 'cherry', 'kiwi', 'kiwi', 'melon', 'melon', 'plum', 'plum', 'plum']\n"
     ]
    }
   ],
   "source": [
    "fruit_a = fruit_name()\n",
    "print(fruit_a)\n",
    "fruit_sort(fruit_a)\n",
    "print(fruit_a)"
   ]
  },
  {
   "cell_type": "code",
   "execution_count": 5,
   "id": "5071d236",
   "metadata": {},
   "outputs": [
    {
     "name": "stdout",
     "output_type": "stream",
     "text": [
      "The num of duplicate of melon is 2\n",
      "The num of duplicate of kiwi is 2\n",
      "The num of duplicate of cherry is 3\n",
      "The num of duplicate of plum is 3\n",
      "The num of duplicate of berry is 3\n"
     ]
    }
   ],
   "source": [
    "dup_fruit(fruit_a)"
   ]
  },
  {
   "cell_type": "code",
   "execution_count": 7,
   "id": "2e156e38",
   "metadata": {},
   "outputs": [
    {
     "name": "stdout",
     "output_type": "stream",
     "text": [
      "['kiwi', 'kiwi', 'plum', 'plum', 'plum']\n"
     ]
    }
   ],
   "source": [
    "fruit = name_4(fruit_a)\n",
    "print(fruit)"
   ]
  },
  {
   "cell_type": "markdown",
   "id": "e3eeb6bb",
   "metadata": {},
   "source": [
    "### 3.Create a list with prime numbers ranging from range m,n where m and n are user given range. Provide the explanation of the code using markdown. *Use the concept of user-defined functions.\n"
   ]
  },
  {
   "cell_type": "markdown",
   "id": "efafdf09",
   "metadata": {},
   "source": [
    "The Function prime_number takes a number\n",
    "it counts from between 2 and the half of the given number\n",
    "if the given number is divisible by all of the number in the above given range then it append 'FALSE' to the list\n",
    "else if its not divisible by any one number it would append True\n",
    "then the function would return the list of boolean values\n",
    "We start with taking all the number between the user defined range\n",
    "we skip 1 if it contains 1\n",
    "find the sum of the list returned by the function prime_number\n",
    "if it was not divisible by any of the number the sum of all 'FALSE' value would be zero\n",
    "else it won't be a prime number"
   ]
  },
  {
   "cell_type": "code",
   "execution_count": 12,
   "id": "d0cc1be3",
   "metadata": {},
   "outputs": [
    {
     "name": "stdout",
     "output_type": "stream",
     "text": [
      "Enter start of the range- 5\n",
      "Enter the end of the range- 60\n",
      "[5, 7, 11, 13, 17, 19, 23, 29, 31, 37, 41, 43, 47, 53, 59]\n"
     ]
    }
   ],
   "source": [
    "num1 = int(input(\"Enter start of the range- \"))\n",
    "num2 = int(input(\"Enter the end of the range- \"))\n",
    "num_list = []\n",
    "def prime_number(number):\n",
    "    bul = []\n",
    "    for j in range(2, number // 2):\n",
    "        if number % j != 0:\n",
    "            bul.append(False)\n",
    "        else:\n",
    "            bul.append(True)\n",
    "    return bul\n",
    "\n",
    "for p in range(num1, num2):\n",
    "    if p == 1:\n",
    "        continue\n",
    "    if sum(prime_number(p)) == 0:\n",
    "        num_list.append(p)\n",
    "\n",
    "print(num_list)"
   ]
  },
  {
   "cell_type": "code",
   "execution_count": null,
   "id": "ae3ab188",
   "metadata": {},
   "outputs": [],
   "source": []
  }
 ],
 "metadata": {
  "kernelspec": {
   "display_name": "Python 3 (ipykernel)",
   "language": "python",
   "name": "python3"
  },
  "language_info": {
   "codemirror_mode": {
    "name": "ipython",
    "version": 3
   },
   "file_extension": ".py",
   "mimetype": "text/x-python",
   "name": "python",
   "nbconvert_exporter": "python",
   "pygments_lexer": "ipython3",
   "version": "3.9.13"
  }
 },
 "nbformat": 4,
 "nbformat_minor": 5
}
