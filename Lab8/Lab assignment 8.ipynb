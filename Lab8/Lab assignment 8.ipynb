{
 "cells": [
  {
   "cell_type": "markdown",
   "id": "e28219ee",
   "metadata": {},
   "source": [
    "1. Create a dictionary for a movie ticket booking system with keys as the movie ID and other attributes [name,language,genre,ratings] as values.\n",
    "2. Take an input from the user and add a new movie to the dictionary.\n",
    "3. Take the input from a user and remove a particular movie.\n",
    "4. Overwrite the details of any movie ID.\n"
   ]
  },
  {
   "cell_type": "code",
   "execution_count": 6,
   "id": "af60012d",
   "metadata": {},
   "outputs": [
    {
     "name": "stdout",
     "output_type": "stream",
     "text": [
      "How many movies? 2\n",
      "enter the movie id: 1\n",
      "enter the movie name: ps\n",
      "enter the movie id: 2\n",
      "enter the movie name: lt\n",
      "{1: 'ps', 2: 'lt'}\n"
     ]
    }
   ],
   "source": [
    "dict={}\n",
    "n=int(input('How many movies? '))\n",
    "movie_id=[]\n",
    "movie_name=[]\n",
    "movie_attribute=[movie_name,'tamil','Romcom','9']\n",
    "for i in range(n):\n",
    "    a=int(input('enter the movie id: '))\n",
    "    b=(input('enter the movie name: '))\n",
    "    movie_id.append(a)\n",
    "    movie_name.append(b)\n",
    "    \n",
    "    dict[movie_id[i]]=movie_attribute\n",
    "print(dict)\n",
    "    "
   ]
  },
  {
   "cell_type": "code",
   "execution_count": null,
   "id": "ad9a739e",
   "metadata": {},
   "outputs": [],
   "source": [
    "n_movie=[]\n",
    "l_movie=[]\n",
    "g_movie=[]\n",
    "r_movie=[]\n",
    "movie_id={1:['Black adam','English','Action',2],2:['Avenger','English','Romantic',4]}\n",
    "print(\"Adding movies to the list\")\n",
    "a=int(input(\"Enter the number of movies: \"))\n",
    "for i in range(a):\n",
    "    b=input('Enter the movie name: ')\n",
    "    n_movie.append(b)\n",
    "    c=input('Enter the language of the movie: ')\n",
    "    l_movie.append(c)\n",
    "    d=input('Enter the genre of the movie: ')\n",
    "    g_movie.append(d)\n",
    "    e=int(input(\"Enter the ratings: \"))\n",
    "    r_movie.append(e)\n",
    "    movie_id[3]=n_movie,l_movie,g_movie,r_movie\n",
    "    print(movie_id)\n",
    "    \n",
    "print(\"Removing movie from the list\")\n",
    "f=int(input(\"Enter the number of movies: \"))\n",
    "for i in range(f):\n",
    "    g=int(input('Enter the movie number: '))\n",
    "    movie_id.pop(g)\n",
    "    print(movie_id)\n"
   ]
  },
  {
   "cell_type": "markdown",
   "id": "9aafba7f",
   "metadata": {},
   "source": [
    "5. Create a dictionary for a student register that stores the names of 5 students and marks of 5 subjects each.\n",
    "6. Print the marks of each student subjectwise and its aggregate of each student."
   ]
  },
  {
   "cell_type": "code",
   "execution_count": null,
   "id": "116f4c36",
   "metadata": {},
   "outputs": [],
   "source": [
    "students=dict()\n",
    "n=int(input(\"Enter number of students :\"))\n",
    "for i in range(n):\n",
    "        s_name=input(\"Enter names of student :\")\n",
    "        marks=[]\n",
    "        for j in range(5):    \n",
    "            mark=(input(\"Enter marks :\"))\n",
    "            marks.append(mark)\n",
    "        students[s_name]=marks\n",
    "print(\"Dictionary of student created :\")\n",
    "print(students)"
   ]
  },
  {
   "cell_type": "code",
   "execution_count": null,
   "id": "9d3e80f1",
   "metadata": {},
   "outputs": [],
   "source": []
  }
 ],
 "metadata": {
  "kernelspec": {
   "display_name": "Python 3 (ipykernel)",
   "language": "python",
   "name": "python3"
  },
  "language_info": {
   "codemirror_mode": {
    "name": "ipython",
    "version": 3
   },
   "file_extension": ".py",
   "mimetype": "text/x-python",
   "name": "python",
   "nbconvert_exporter": "python",
   "pygments_lexer": "ipython3",
   "version": "3.9.13"
  }
 },
 "nbformat": 4,
 "nbformat_minor": 5
}
