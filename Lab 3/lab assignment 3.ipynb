{
 "cells": [
  {
   "cell_type": "markdown",
   "id": "94d3c617",
   "metadata": {},
   "source": [
    "### 1. Accept an integer value from a user.Count the total number of digits in that number. If the number of digits is greater than 6 print \"OOps. Too lengthy\" and if its is less than 3 print(\"Its too tiny\"). (Without converting to a character)`"
   ]
  },
  {
   "cell_type": "code",
   "execution_count": 10,
   "id": "ff0804ea",
   "metadata": {},
   "outputs": [
    {
     "name": "stdout",
     "output_type": "stream",
     "text": [
      "enter a number356\n",
      "Perfect!!!\n"
     ]
    }
   ],
   "source": [
    "num=int(input('enter a number'))\n",
    "count=0\n",
    "while (num!=0):\n",
    "    count+=1\n",
    "    num=num//10\n",
    "if count>6:\n",
    "    print(\"OOPS the number you have entered is too lengthy\")\n",
    "elif count < 3:\n",
    "    print('Its too tiny')\n",
    "else:\n",
    "    print('Perfect!!!')"
   ]
  },
  {
   "cell_type": "markdown",
   "id": "96c510fe",
   "metadata": {},
   "source": [
    "###  2. Accept an integer from a user and print its multiplication table till 10 with the format \"x * 1 = x\" where x is the user input."
   ]
  },
  {
   "cell_type": "code",
   "execution_count": 13,
   "id": "9e704519",
   "metadata": {},
   "outputs": [
    {
     "name": "stdout",
     "output_type": "stream",
     "text": [
      "Enter the table you want for multiplication4\n",
      "4 * 1 = 4\n",
      "4 * 2 = 8\n",
      "4 * 3 = 12\n",
      "4 * 4 = 16\n",
      "4 * 5 = 20\n",
      "4 * 6 = 24\n",
      "4 * 7 = 28\n",
      "4 * 8 = 32\n",
      "4 * 9 = 36\n",
      "4 * 10 = 40\n"
     ]
    }
   ],
   "source": [
    "n= int(input('Enter the table you want for multiplication'))\n",
    "for i in range(1,11):\n",
    "    a=n*i\n",
    "    print(n,'*', i,'=',a)"
   ]
  },
  {
   "cell_type": "markdown",
   "id": "44ffb1d0",
   "metadata": {},
   "source": [
    "### 3.  Write a program to print all the multiples of 5 and 7 in a given range. Range shall be taken from the user."
   ]
  },
  {
   "cell_type": "code",
   "execution_count": 23,
   "id": "1ad443eb",
   "metadata": {},
   "outputs": [
    {
     "name": "stdout",
     "output_type": "stream",
     "text": [
      "enter the min value5\n",
      "enter the max value1000\n",
      "35,70,105,140,175,210,245,280,315,350,385,420,455,490,525,560,595,630,665,700,735,770,805,840,875,910,945,980,"
     ]
    }
   ],
   "source": [
    "a=int(input('enter the min value'))\n",
    "b=int(input('enter the max value'))\n",
    "for i in range(a,b+1):\n",
    "    if i%5==0 and i%7==0:\n",
    "        print(i,end=',')\n",
    "    "
   ]
  },
  {
   "cell_type": "markdown",
   "id": "d784ed79",
   "metadata": {},
   "source": [
    "### 4. Create a menu driven program for a bank that does the login, deposit, withdrawal and loan application using the concepts of function."
   ]
  },
  {
   "cell_type": "code",
   "execution_count": 1,
   "id": "8d7b80b1",
   "metadata": {},
   "outputs": [
    {
     "name": "stdout",
     "output_type": "stream",
     "text": [
      "Enter Username :Admin\n",
      "Enter Password :admin\n",
      "Welcome Admin\n",
      "Enter 1.Withdrawal, 2. Deposit, 3.Loan\n",
      "Enter the choice2\n",
      "Deposit amount200\n",
      "Balance 10200.0\n"
     ]
    }
   ],
   "source": [
    "def login(id,pass1):\n",
    "    User=\"Admin\"\n",
    "    pass2=\"admin\"\n",
    "    if User==id and pass1==pass2:\n",
    "        print(f\"Welcome {User}\")\n",
    "        return 1\n",
    "    else:\n",
    "        print(\"Incorrect password\")\n",
    "        return 0\n",
    "def withdrawal(ch):\n",
    "    if ch==1 and Balance!=0:\n",
    "        Withdraw=float(input(\"Withdraw amount\"))\n",
    "        if Withdraw>Balance:\n",
    "            print(\"Insufficient Balance\")\n",
    "        else:\n",
    "            print(\"Balance\",Balance-Withdraw)\n",
    "def deposit(ch):\n",
    "    if ch==2:\n",
    "        Deposit=float(input(\"Deposit amount\"))\n",
    "        print(\"Balance\",Balance+Deposit)\n",
    "def loan(ch):\n",
    "    if ch==3:\n",
    "        amount=int(input(\"The Amount to be loaned :\"))\n",
    "        Tenure=int(input(\"The Tenure for the loan :\"))\n",
    "        print(f\"The loan amount is {amount} for a tenure of {Tenure}\")\n",
    "USERNAME=input(\"Enter Username :\")\n",
    "Password=input(\"Enter Password :\")\n",
    "Balance=10000\n",
    "return1=login(USERNAME,Password)\n",
    "if return1==1:\n",
    "    print(\"Enter 1.Withdrawal, 2. Deposit, 3.Loan\")\n",
    "    ch=int(input(\"Enter the choice\"))\n",
    "    withdrawal(ch)\n",
    "    deposit(ch)\n",
    "    loan(ch)\n"
   ]
  },
  {
   "cell_type": "markdown",
   "id": "4117864d",
   "metadata": {},
   "source": [
    "###  5. Write a program to accept a number from a user and calculate the sum of all numbers from 1 to a given number.\n",
    "For example, if the user entered 10 the output should be 55 (1+2+3+4+5+6+7+8+9+10)"
   ]
  },
  {
   "cell_type": "code",
   "execution_count": 26,
   "id": "275bb583",
   "metadata": {},
   "outputs": [
    {
     "name": "stdout",
     "output_type": "stream",
     "text": [
      "enter the number: 10\n",
      "55\n"
     ]
    }
   ],
   "source": [
    "num=int(input('enter the number: '))\n",
    "sum=0\n",
    "for i in range(num+1):\n",
    "    sum=sum+i\n",
    "print(sum)"
   ]
  },
  {
   "cell_type": "markdown",
   "id": "bda359b7",
   "metadata": {},
   "source": [
    "### 6. Write a program to create a user login that would allow the user to enter unlimited  invalid attempts of either username or password. The default username and password can be assumed to me 'Admin' and 'admin' respectively."
   ]
  },
  {
   "cell_type": "code",
   "execution_count": 48,
   "id": "6b3d91f6",
   "metadata": {},
   "outputs": [
    {
     "name": "stdout",
     "output_type": "stream",
     "text": [
      "enter the user name Admin\n",
      "enter your password dnu\n",
      "enter your password mxnd\n",
      "enter your password admin\n",
      "You can login in Now\n"
     ]
    }
   ],
   "source": [
    "user=\"Admin\"\n",
    "passw='admin'\n",
    "username=input('enter the user name ')\n",
    "while user==username:\n",
    "    password=input('enter your password ')\n",
    "    if passw==password:\n",
    "        print('You can login in Now')\n",
    "        break\n",
    "        \n",
    "        "
   ]
  },
  {
   "cell_type": "markdown",
   "id": "30140751",
   "metadata": {},
   "source": [
    "###  7. Write a program to ask user a question. If the answer is anything other than YES/yes or NO/no the the user should be given a prompt as 'Its just a matter of Yes or No.' and ask the same question again till the answer is either of yes or no."
   ]
  },
  {
   "cell_type": "code",
   "execution_count": 4,
   "id": "23ea2483",
   "metadata": {},
   "outputs": [
    {
     "name": "stdout",
     "output_type": "stream",
     "text": [
      "Ask a questionHDGD\n",
      "enter your Answerno\n",
      "Perfect!!! you have got it right\n"
     ]
    }
   ],
   "source": [
    "\n",
    "while True:\n",
    "    question=input('Ask a question')\n",
    "    a=input('enter your Answer')\n",
    "    if a=='YES' or a=='yes' or a=='NO' or a=='no':\n",
    "        print('Perfect!!! you have got it right')  \n",
    "        break\n",
    "    else:\n",
    "        print('its a matter of yes or no')\n",
    "        \n",
    "        "
   ]
  },
  {
   "cell_type": "code",
   "execution_count": null,
   "id": "bb19e9ef",
   "metadata": {},
   "outputs": [],
   "source": []
  }
 ],
 "metadata": {
  "kernelspec": {
   "display_name": "Python 3 (ipykernel)",
   "language": "python",
   "name": "python3"
  },
  "language_info": {
   "codemirror_mode": {
    "name": "ipython",
    "version": 3
   },
   "file_extension": ".py",
   "mimetype": "text/x-python",
   "name": "python",
   "nbconvert_exporter": "python",
   "pygments_lexer": "ipython3",
   "version": "3.9.13"
  }
 },
 "nbformat": 4,
 "nbformat_minor": 5
}
