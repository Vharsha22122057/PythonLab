{
 "cells": [
  {
   "cell_type": "markdown",
   "id": "bd5cc382",
   "metadata": {},
   "source": [
    "### Given an integer, n, perform the following conditional actions:\n",
    "\n",
    "If  is odd, print Weird\n",
    "If  is even and in the inclusive range of  2 to 5 , print Not Weird\n",
    "If  is even and in the inclusive range of 6 to 20, print Weird\n",
    "If  is even and greater than 20, print Not Weird\n",
    "\n",
    "Input Format\n",
    "\n",
    "A single line containing a positive integer, n.\n",
    "\n",
    "Constraints\n",
    "1<=n<=100\n",
    "Output Format\n",
    "Print Weird if the number is weird. Otherwise, print Not Weird.\n"
   ]
  },
  {
   "cell_type": "code",
   "execution_count": 5,
   "id": "0387771a",
   "metadata": {},
   "outputs": [
    {
     "name": "stdout",
     "output_type": "stream",
     "text": [
      "Enter a number: 88\n",
      "Not Weird\n"
     ]
    }
   ],
   "source": [
    "n=int(input('Enter a number: '))\n",
    "if n in range(1,101):\n",
    "    if n%2==1:\n",
    "        print('weird')\n",
    "    else:\n",
    "        if n in range (2,6):\n",
    "            print('Not Weird')\n",
    "        elif n in range(6,20):\n",
    "            print('Weird')\n",
    "        else:\n",
    "            print('Not Weird')\n",
    "else:\n",
    "    print('Not in range')\n",
    "            "
   ]
  },
  {
   "cell_type": "markdown",
   "id": "e8998f96",
   "metadata": {},
   "source": [
    "### Take an input n from the user that tells the systems the number of elements the user is goung to enter.\n",
    "WAP to take in , n, int inputs from the user and find the sum of all the even numbers without using the concepts of complex \n",
    "data types and count the number of odd numbers."
   ]
  },
  {
   "cell_type": "code",
   "execution_count": 2,
   "id": "bbe2f805",
   "metadata": {},
   "outputs": [
    {
     "name": "stdout",
     "output_type": "stream",
     "text": [
      "How many numbers do you want?5\n",
      "enter a number: 55\n",
      "enter a number: 0\n",
      "enter a number: 1\n",
      "enter a number: 2\n",
      "enter a number: 6\n",
      "8\n",
      "2\n"
     ]
    }
   ],
   "source": [
    "n=int(input('How many numbers do you want?'))\n",
    "even_sum=0\n",
    "odd_count=0\n",
    "for i in range (n):\n",
    "    a=int(input('enter a number: '))\n",
    "    if a%2==0:\n",
    "        even_sum=even_sum+a\n",
    "    else:\n",
    "        odd_count=odd_count+1\n",
    "        \n",
    "print(even_sum)\n",
    "print(odd_count)\n",
    "        "
   ]
  },
  {
   "cell_type": "markdown",
   "id": "058a5863",
   "metadata": {},
   "source": [
    "### Write a program to print the prime numbers from a user specifi"
   ]
  },
  {
   "cell_type": "code",
   "execution_count": 11,
   "id": "bee8119b",
   "metadata": {},
   "outputs": [
    {
     "name": "stdout",
     "output_type": "stream",
     "text": [
      "Enter the first interval5\n",
      "Enter the last interval44\n",
      "The Prime Numbers in the range:( 5 , 44 )\n",
      "5\n",
      "7\n",
      "11\n",
      "13\n",
      "17\n",
      "19\n",
      "23\n",
      "29\n",
      "31\n",
      "37\n",
      "41\n",
      "43\n"
     ]
    }
   ],
   "source": [
    "\n",
    "first_value = int(input (\"Enter the first interval\"))\n",
    "last_value = int(input (\"Enter the last interval\"))\n",
    "print(\"The Prime Numbers in the range:(\",first_value,',',last_value,')')  \n",
    "for number in range(first_value, last_value + 1):  \n",
    "    if number>1:  \n",
    "        for i in range(2,number):  \n",
    "            if (number%i)==0:  \n",
    "                break \n",
    "        else:  \n",
    "            print (number)  "
   ]
  },
  {
   "cell_type": "code",
   "execution_count": null,
   "id": "3ce8d2f5",
   "metadata": {},
   "outputs": [],
   "source": []
  }
 ],
 "metadata": {
  "kernelspec": {
   "display_name": "Python 3 (ipykernel)",
   "language": "python",
   "name": "python3"
  },
  "language_info": {
   "codemirror_mode": {
    "name": "ipython",
    "version": 3
   },
   "file_extension": ".py",
   "mimetype": "text/x-python",
   "name": "python",
   "nbconvert_exporter": "python",
   "pygments_lexer": "ipython3",
   "version": "3.9.13"
  }
 },
 "nbformat": 4,
 "nbformat_minor": 5
}
