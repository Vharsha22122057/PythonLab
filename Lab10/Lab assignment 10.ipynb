{
 "cells": [
  {
   "cell_type": "markdown",
   "id": "04de69bb",
   "metadata": {},
   "source": [
    "### create a user login with login and register feature. The username and password should be validated. Duplicates usernames cannot be there in the list while registering."
   ]
  },
  {
   "cell_type": "code",
   "execution_count": 6,
   "id": "3c9600d6",
   "metadata": {},
   "outputs": [
    {
     "name": "stdout",
     "output_type": "stream",
     "text": [
      " 1-sign up \n",
      " 2-login\n",
      " 3-exit\n",
      "Enter your chouce- 1\n",
      "Enter a new username- vharsha\n",
      "The username exists. Enter a new Username\n",
      "Enter a new username- ras\n",
      "Enter a password- ras\n",
      "You have signed up. Welcome\n",
      "Enter your chouce- 3\n"
     ]
    }
   ],
   "source": [
    "def Sign_up(name, password):\n",
    "    while True:\n",
    "        username_input = input(\"Enter a new username- \")\n",
    "        if username_input in name:\n",
    "            print(\"The username exists. Enter a new Username\")\n",
    "            continue\n",
    "        else:\n",
    "            name.append(username_input)\n",
    "            password_input = input(\"Enter a password- \")\n",
    "            password.append(password_input)\n",
    "            print(\"You have signed up. Welcome\")\n",
    "            return name, password\n",
    "        \n",
    "def log_in(name, password):\n",
    "    username_index = 0\n",
    "    while True:\n",
    "        username_input = input(\"Enter your Username- \")\n",
    "        if username_input not in name:\n",
    "            print(\"Wrong username. Please Enter it again\")\n",
    "            continue\n",
    "        else:\n",
    "            username_index = name.index(username_input)\n",
    "            password_input = input(\"Enter your password- \")\n",
    "            if password_input == password[username_index]:\n",
    "                print(\"Welcome Back. You are Logged In\")\n",
    "                break\n",
    "            else:\n",
    "                print(\"Wrong Password. Enter again\")\n",
    "                continue\n",
    "                \n",
    "username_list = ['vharsha', 'raswanth', 'charan']\n",
    "password_list = ['v', 'r', 'c']\n",
    "print(\" 1-sign up \\n 2-login\\n 3-exit\")\n",
    "\n",
    "while True:\n",
    "    user_choice = int(input(\"Enter your chouce- \"))\n",
    "    if user_choice == 1:\n",
    "        Sign_up(username_list, password_list)\n",
    "        continue\n",
    "    elif user_choice == 2:\n",
    "        log_in(username_list, password_list)\n",
    "        continue\n",
    "    elif user_choice == 3:\n",
    "        break\n",
    "    else:\n",
    "        print(\"Wrong Input\")\n",
    "        continue"
   ]
  },
  {
   "cell_type": "markdown",
   "id": "bdabd08b",
   "metadata": {},
   "source": [
    "### 2. Create an item details as given below:  AQ001 : [name of item, price of item, seller of item,catgory of item] The user should be asked to enter the details for 2 items in each category ,Electrical appliances,Furnitures, Clothes…"
   ]
  },
  {
   "cell_type": "code",
   "execution_count": 9,
   "id": "4fd71bdc",
   "metadata": {},
   "outputs": [
    {
     "name": "stdout",
     "output_type": "stream",
     "text": [
      "The list of product catagory available are: ['Mobile Phones', 'Computers', 'Clothes', 'Electronics']\n",
      "Enter new products in the gien catagory\n",
      "Press 1 to enter new product and 2 to exit\n",
      "Enter the catagory you want to add product to: computers\n",
      "Enter Product name: lenovo\n",
      "Enter the product Price: 48000\n",
      "Enter the supplier's name: adef\n",
      "Your Choice: 2\n",
      "{1001: ['Oneplus Nord Mobile', 30000, 'Narpat', 'Mobile Phones'], 1002: ['Iphone 13', 130000, 'Narpat', 'Mobile Phones'], 1003: ['Dell Laptop', 70000, 'Moaz', 'Computers'], 1004: ['Allen Solly Suit', 15000, 'Pritesh', 'Clothes'], 1005: ['Van Huesen Shirt', 5000, 'Pritesh', 'Clothes'], 1006: ['Usha Fan', 2000, 'Tushar', 'Electronics'], 1007: ['lenovo', 48000, 'adef', 'computers']}\n"
     ]
    }
   ],
   "source": [
    "item_dic = {1001:['Oneplus Nord Mobile', 30000, 'Narpat', 'Mobile Phones'],\n",
    "           1002 : ['Iphone 13', 130000, 'Narpat', 'Mobile Phones'],\n",
    "           1003 : ['Dell Laptop', 70000, 'Moaz', 'Computers'],\n",
    "           1004 : ['Allen Solly Suit', 15000, 'Pritesh', 'Clothes'],\n",
    "           1005 : ['Van Huesen Shirt', 5000, 'Pritesh', 'Clothes'],\n",
    "           1006 : ['Usha Fan', 2000, 'Tushar', 'Electronics']}\n",
    "cat_list = ['Mobile Phones', 'Computers', 'Clothes', 'Electronics']\n",
    "def item_ID(m_dic):\n",
    "    ID_list = [x for x in m_dic] \n",
    "    new_id = ID_list[-1] + 1\n",
    "    return new_id\n",
    "\n",
    "print(f'The list of product catagory available are: {cat_list}')\n",
    "print(\"Enter new products in the gien catagory\")\n",
    "print('Press 1 to enter new product and 2 to exit')\n",
    "while True:\n",
    "    prod_list = []\n",
    "    cat_choice = input(\"Enter the catagory you want to add product to: \")\n",
    "    product = input('Enter Product name: ')\n",
    "    prod_list.append(product)\n",
    "    price = int(input('Enter the product Price: '))\n",
    "    prod_list.append(price)\n",
    "    supp = input(\"Enter the supplier's name: \")\n",
    "    prod_list.append(supp)\n",
    "    prod_list.append(cat_choice)\n",
    "    new_id = item_ID(item_dic)\n",
    "    item_dic[new_id] = prod_list\n",
    "    choice = int(input('Your Choice: '))\n",
    "    if choice == 1:\n",
    "        continue\n",
    "    elif choice == 2:\n",
    "        break\n",
    "    else:\n",
    "        print('Wrong input')\n",
    "        \n",
    "print(item_dic)"
   ]
  },
  {
   "cell_type": "markdown",
   "id": "5c32a06e",
   "metadata": {},
   "source": [
    "### 3. Once the dictionary is created the program should create a list of item from the dictionary that stores only IDs of any single category."
   ]
  },
  {
   "cell_type": "code",
   "execution_count": 10,
   "id": "1d2c73e8",
   "metadata": {},
   "outputs": [
    {
     "name": "stdout",
     "output_type": "stream",
     "text": [
      "Enter tha product Catagory whos ID you want to save: 1008\n",
      "[]\n"
     ]
    }
   ],
   "source": [
    "id_list = []\n",
    "p_cat = input('Enter tha product Catagory whos ID you want to save: ')\n",
    "for it in item_dic:\n",
    "    if p_cat in item_dic[it]:\n",
    "        id_list.append(it)\n",
    "print(id_list)"
   ]
  },
  {
   "cell_type": "markdown",
   "id": "660fe59f",
   "metadata": {},
   "source": [
    "### 4. Create a list of 5 student ids taken as inpput from the user."
   ]
  },
  {
   "cell_type": "code",
   "execution_count": 11,
   "id": "825903c0",
   "metadata": {},
   "outputs": [
    {
     "name": "stdout",
     "output_type": "stream",
     "text": [
      "Enter the Student ID: 22122016\n",
      "Enter the Student ID: 22122057\n",
      "Enter the Student ID: 22122143\n",
      "Enter the Student ID: 22122030\n",
      "Enter the Student ID: 22122036\n",
      "[22122016, 22122057, 22122143, 22122030, 22122036]\n"
     ]
    }
   ],
   "source": [
    "std_id_list = []\n",
    "for i in range(5):\n",
    "    id_numb = int(input(\"Enter the Student ID: \"))\n",
    "    std_id_list.append(id_numb)\n",
    "print(std_id_list)"
   ]
  },
  {
   "cell_type": "markdown",
   "id": "56d2f366",
   "metadata": {},
   "source": [
    "### 5. Create a data structure that takes in marks of 5 subjects for each student in the list and assign to the ids."
   ]
  },
  {
   "cell_type": "code",
   "execution_count": 12,
   "id": "57575316",
   "metadata": {},
   "outputs": [
    {
     "name": "stdout",
     "output_type": "stream",
     "text": [
      "22122016 marks in English: 69\n",
      "22122016 marks in Maths: 89\n",
      "22122016 marks in Biology: 36\n",
      "22122016 marks in Chemistry: 45\n",
      "22122016 marks in Physics: 89\n",
      "22122057 marks in English: 99\n",
      "22122057 marks in Maths: 99\n",
      "22122057 marks in Biology: 87\n",
      "22122057 marks in Chemistry: 5\n",
      "22122057 marks in Physics: 6\n",
      "22122143 marks in English: 77\n",
      "22122143 marks in Maths: 88\n",
      "22122143 marks in Biology: 66\n",
      "22122143 marks in Chemistry: 55\n",
      "22122143 marks in Physics: 88\n",
      "22122030 marks in English: 44\n",
      "22122030 marks in Maths: 22\n",
      "22122030 marks in Biology: 33\n",
      "22122030 marks in Chemistry: 99\n",
      "22122030 marks in Physics: 66\n",
      "22122036 marks in English: 78\n",
      "22122036 marks in Maths: 5\n",
      "22122036 marks in Biology: 6\n",
      "22122036 marks in Chemistry: 5\n",
      "22122036 marks in Physics: 6\n",
      "{22122016: {'English': 69, 'Maths': 89, 'Biology': 36, 'Chemistry': 45, 'Physics': 89}, 22122057: {'English': 99, 'Maths': 99, 'Biology': 87, 'Chemistry': 5, 'Physics': 6}, 22122143: {'English': 77, 'Maths': 88, 'Biology': 66, 'Chemistry': 55, 'Physics': 88}, 22122030: {'English': 44, 'Maths': 22, 'Biology': 33, 'Chemistry': 99, 'Physics': 66}, 22122036: {'English': 78, 'Maths': 5, 'Biology': 6, 'Chemistry': 5, 'Physics': 6}}\n"
     ]
    }
   ],
   "source": [
    "std_mark_dic = {}\n",
    "sub_list = ['English', 'Maths', 'Biology', 'Chemistry', 'Physics']\n",
    "for s in std_id_list:\n",
    "    mark_dic = {}\n",
    "    for sub in sub_list:\n",
    "        mark = int(input(f\"{s} marks in {sub}: \"))\n",
    "        mark_dic[sub] = mark\n",
    "        \n",
    "    std_mark_dic[s] = mark_dic\n",
    "    \n",
    "print(std_mark_dic)"
   ]
  },
  {
   "cell_type": "markdown",
   "id": "a4f2cb44",
   "metadata": {},
   "source": [
    "### 6. once the marks are assigned, try and update marks for any single subject for all students. the new marks has to be taken from the user."
   ]
  },
  {
   "cell_type": "code",
   "execution_count": 13,
   "id": "a9902b9e",
   "metadata": {
    "scrolled": true
   },
   "outputs": [
    {
     "name": "stdout",
     "output_type": "stream",
     "text": [
      "Subject's marks that needs to be changed: Maths\n",
      "Maths's new mark for 22122016 is99\n",
      "Maths's new mark for 22122057 is99\n",
      "Maths's new mark for 22122143 is99\n",
      "Maths's new mark for 22122030 is99\n",
      "Maths's new mark for 22122036 is99\n",
      "{22122016: {'English': 69, 'Maths': 99, 'Biology': 36, 'Chemistry': 45, 'Physics': 89}, 22122057: {'English': 99, 'Maths': 99, 'Biology': 87, 'Chemistry': 5, 'Physics': 6}, 22122143: {'English': 77, 'Maths': 99, 'Biology': 66, 'Chemistry': 55, 'Physics': 88}, 22122030: {'English': 44, 'Maths': 99, 'Biology': 33, 'Chemistry': 99, 'Physics': 66}, 22122036: {'English': 78, 'Maths': 99, 'Biology': 6, 'Chemistry': 5, 'Physics': 6}}\n"
     ]
    }
   ],
   "source": [
    "chan_sub = input(\"Subject's marks that needs to be changed: \")\n",
    "for key in std_mark_dic:\n",
    "    temp_dic = std_mark_dic[key]\n",
    "    new_mark = int(input(f\"{chan_sub}'s new mark for {key} is\"))\n",
    "    temp_dic[chan_sub] = new_mark\n",
    "    \n",
    "print(std_mark_dic)"
   ]
  },
  {
   "cell_type": "code",
   "execution_count": null,
   "id": "7e948e2e",
   "metadata": {},
   "outputs": [],
   "source": []
  }
 ],
 "metadata": {
  "kernelspec": {
   "display_name": "Python 3 (ipykernel)",
   "language": "python",
   "name": "python3"
  },
  "language_info": {
   "codemirror_mode": {
    "name": "ipython",
    "version": 3
   },
   "file_extension": ".py",
   "mimetype": "text/x-python",
   "name": "python",
   "nbconvert_exporter": "python",
   "pygments_lexer": "ipython3",
   "version": "3.9.13"
  }
 },
 "nbformat": 4,
 "nbformat_minor": 5
}
