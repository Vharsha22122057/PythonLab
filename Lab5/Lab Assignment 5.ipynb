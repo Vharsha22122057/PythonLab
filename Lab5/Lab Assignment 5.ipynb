{
 "cells": [
  {
   "cell_type": "markdown",
   "id": "574ae96b",
   "metadata": {},
   "source": [
    "### Create a simple calculator to add, subtract and multiply two or more values, but division and exponential shall be operated on two values. If the user enters more than two values for division and exponential, it should give an appropriate error message.\n",
    "Use the concept of functions to take input, and separate functions for distinctive operations.\n"
   ]
  },
  {
   "cell_type": "code",
   "execution_count": 4,
   "id": "70c06877",
   "metadata": {},
   "outputs": [
    {
     "name": "stdout",
     "output_type": "stream",
     "text": [
      "1.Add \n",
      " 2.Subtract \n",
      " 3.Multiply \n",
      " 4.Divide \n",
      " 5.Exponential \n",
      " Select operation:8\n",
      "Invalid Input\n",
      "1.Add \n",
      " 2.Subtract \n",
      " 3.Multiply \n",
      " 4.Divide \n",
      " 5.Exponential \n",
      " Select operation:2\n",
      "Enter first number: 45\n",
      "Enter second number: 74\n",
      "-29\n"
     ]
    }
   ],
   "source": [
    "def add(x,y):\n",
    "    return x+y\n",
    "def subtract(x,y):\n",
    "    return x-y\n",
    "def multiply(x,y):\n",
    "    return x*y\n",
    "def divide(x,y):\n",
    "    return x/y\n",
    "def exponential(x,y):\n",
    "    return x**y\n",
    "\n",
    "for i in range(3):\n",
    "    choice=input('1.Add \\n 2.Subtract \\n 3.Multiply \\n 4.Divide \\n 5.Exponential \\n Select operation:')\n",
    "\n",
    "    if choice in ('1', '2', '3', '4','5'):\n",
    "        a=int(input('Enter first number: '))\n",
    "        b=int(input('Enter second number: '))\n",
    "        if choice=='1':\n",
    "            print(add(a,b))\n",
    "        elif choice=='2':\n",
    "            print(subtract(a,b))\n",
    "        elif choice=='3':\n",
    "            print(multiply(a,b))\n",
    "        elif choice=='4':\n",
    "            print(divide(a,b))\n",
    "        elif choice=='5':\n",
    "            print(exponential(a,b))\n",
    "        break\n",
    "    \n",
    "    else:\n",
    "        print('Invalid Input')\n",
    "        \n",
    "        "
   ]
  },
  {
   "cell_type": "code",
   "execution_count": 3,
   "id": "94996e67",
   "metadata": {},
   "outputs": [
    {
     "name": "stdout",
     "output_type": "stream",
     "text": [
      "How many numbers do u want? 3\n",
      "enter a number: 4\n",
      "enter a number: 5\n",
      "enter a number: 6\n",
      "Maxximum value is: 6\n",
      "Even numbers in the list: 2\n",
      "Odd numbers in the list: 1\n"
     ]
    }
   ],
   "source": [
    "l=[]\n",
    "n=int(input('How many numbers do u want? '))\n",
    "for i in range(n):\n",
    "    a=int(input('enter a number: '))\n",
    "    l.append(a)\n",
    "    even_count=0\n",
    "    odd_count=0\n",
    "    for num in l:\n",
    "        if num%2==0:\n",
    "            even_count+=1\n",
    "        else:\n",
    "            odd_count+=1\n",
    "print('Maxximum value is:',max(l))\n",
    "print('Even numbers in the list:',even_count)\n",
    "print('Odd numbers in the list:',odd_count)"
   ]
  },
  {
   "cell_type": "code",
   "execution_count": null,
   "id": "b543e6a4",
   "metadata": {},
   "outputs": [],
   "source": []
  }
 ],
 "metadata": {
  "kernelspec": {
   "display_name": "Python 3 (ipykernel)",
   "language": "python",
   "name": "python3"
  },
  "language_info": {
   "codemirror_mode": {
    "name": "ipython",
    "version": 3
   },
   "file_extension": ".py",
   "mimetype": "text/x-python",
   "name": "python",
   "nbconvert_exporter": "python",
   "pygments_lexer": "ipython3",
   "version": "3.9.13"
  }
 },
 "nbformat": 4,
 "nbformat_minor": 5
}
